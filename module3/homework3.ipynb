{
 "cells": [
  {
   "cell_type": "markdown",
   "metadata": {},
   "source": [
    "# Homework 3\n",
    "### Snow Hydrology\n",
    "### Clinton Alden"
   ]
  },
  {
   "cell_type": "markdown",
   "metadata": {},
   "source": [
    "### Problem 1: Comparing solar radiation sensors\n",
    "A common problem in snow energy balance studies is that snow accumulates on the upward pointing radiometers (see image below, compliments of Lapo et al., 2015).\n",
    "\n",
    "Use the precipitation dataset from Lab 2 to examine both incoming and outgoing radiation measurements during and after times with precipitation. Find a time in the dataset when you think snow covered the radiometer and explain why this occurred.\n",
    "\n",
    "You may find that skimming the following paper is useful, but it's not necessary. Lapo et al., 2015 Karl Lapo is a graduated, former UW PhD student.\n",
    "\n"
   ]
  },
  {
   "cell_type": "markdown",
   "metadata": {},
   "source": []
  },
  {
   "cell_type": "markdown",
   "metadata": {},
   "source": [
    "### Problem 2: Clouds\n",
    "\n",
    "Identify two periods of variable cloud cover in the dataset, one during nighttime and one during daytime. You can use shortwave radiation measurements to identify what is day/night. Explain why and how you can use both shortwave and longwave measurements to identify variations in cloud cover. Explain what both shortwave and longwave radiation tell you about the cloud cover."
   ]
  },
  {
   "cell_type": "markdown",
   "metadata": {},
   "source": []
  },
  {
   "cell_type": "markdown",
   "metadata": {},
   "source": [
    "### Problem 3: Estimating snow surface temperature from outgoing longwave radiation\n",
    "At Kettle Ponds, a dedicated instrument for measuring surface temperature (an Apogee infrared radiometer) is used to measure surface temperature (see variables Tsurf_c, Tsurf_d, Tsurf_ue, Tsurf_uw). One could also estimate surface temperature using the broadband longwave radiometers (which measure more than just infrared wavelengths, see variable Rlw_out_9m_d). Use broadband longwave radiometer meausrements of outgoing longwave radiation (Rlw_out_9m_d) to estimate snow surface temperature using the Stefan-Boltzmann equation. For 3-7 days during any time in the dataset, plot your estimate of surface temperature along with the Apogee infrared radiometer estimate. Discuss how they differ and why they might differ."
   ]
  },
  {
   "cell_type": "markdown",
   "metadata": {},
   "source": []
  },
  {
   "cell_type": "markdown",
   "metadata": {},
   "source": [
    "Problem 4: Dust on snow and albedo\n",
    "The reflectivity of snow, AKA albedo ($\\alpha$), is defined\n",
    "\n",
    "$\\alpha = \\frac{SW_{out}}{SW_{in}}$\n",
    "\n",
    "It is understood intuitively to most people in cold climates that snow is brightest right after new snowfall, and darkens as it ages. This is a result both of the rounding and growing of snow grains as well as the \"dirtying\" of snow through the deposition of atmospheric deposition particulates. In April, 2024, a substantial amount of dust was deposited on our site at Kettle Ponds (see the photo at the top of this page). Calculate and plot albedo during April the first half of April and identify the date on which you think dust was deposited. Explain how you come to this conclusion.\n",
    "\n"
   ]
  },
  {
   "cell_type": "markdown",
   "metadata": {},
   "source": []
  },
  {
   "cell_type": "markdown",
   "metadata": {},
   "source": [
    "### Problem 5: Snow surface energy balance - Intuition\n",
    "In Lab3-2, we plotted the average diurnal cycle of the snow surface energy balance (the final plot in that lab). Explain what you observe in this plot (you do not need to recreate the plot in your homework). What do each of the five terms represent? When is each term negative/positive and why?"
   ]
  },
  {
   "cell_type": "markdown",
   "metadata": {},
   "source": []
  },
  {
   "cell_type": "markdown",
   "metadata": {},
   "source": [
    "### Problem 6\n",
    "On your reading of Warren 2019.\n",
    "\n",
    "Explain why coarse-grained snow has lower albedo than-grained snow.\n",
    "\n"
   ]
  },
  {
   "cell_type": "markdown",
   "metadata": {},
   "source": []
  }
 ],
 "metadata": {
  "language_info": {
   "name": "python"
  }
 },
 "nbformat": 4,
 "nbformat_minor": 2
}
