{
 "cells": [
  {
   "cell_type": "code",
   "execution_count": 6,
   "id": "5b350e4d-548b-4474-84c6-d63d59155a60",
   "metadata": {},
   "outputs": [],
   "source": [
    "import numpy as np\n",
    "import pandas as pd"
   ]
  },
  {
   "cell_type": "markdown",
   "id": "a4b01bc1-e9c1-43c6-9928-7a282794dffd",
   "metadata": {},
   "source": [
    "## Problem 1\n",
    "\n",
    "#### Imagine you have a 1 cubic centimeter block of ice at -10 degrees C and 1 atm of pressure. Calculate the amount of energy required to melt all of the ice. (Note that you will have to warm it to 0 degrees C before you begin melting it.)"
   ]
  },
  {
   "cell_type": "code",
   "execution_count": 4,
   "id": "aad2c6b6-8eba-4b28-88d0-2a0ed8837107",
   "metadata": {},
   "outputs": [
    {
     "name": "stdout",
     "output_type": "stream",
     "text": [
      "The total energy needed to melt 1cm^3 block of ice at -10C is 325.5J.\n"
     ]
    }
   ],
   "source": [
    "# Convert volume of ice to mass\n",
    "density_ice = 0.917 #g/cm^3\n",
    "volume_ice = 1 #cm^3\n",
    "\n",
    "mass_ice = density_ice * volume_ice\n",
    "\n",
    "# calculate energy to raise to 0C\n",
    "c_p_ice = 2.1 #kJ K-1 kg-1, also in units J K-1 g-1\n",
    "warming_energy = mass_ice * c_p_ice * 10 #J\n",
    "\n",
    "# calculate energy to melt\n",
    "# latent heat of fusion for the ice-water transition\n",
    "L_f = 334 #kJ/kg, also in units J/g\n",
    "melt_energy = mass_ice * L_f\n",
    "\n",
    "# total energy\n",
    "total_energy = np.round((warming_energy + melt_energy), 1)\n",
    "print('The total energy needed to melt 1cm^3 block of ice at -10C is ' + str(total_energy) + 'J.')"
   ]
  },
  {
   "cell_type": "markdown",
   "id": "ebdc5603-38af-4224-88a0-79ac9d4f062f",
   "metadata": {},
   "source": [
    "#### Now, consider that same block of ice at -10 degrees C and 1 atm of pressure. Calculate the amount of energy required to sublimate all of the ice. (Note that you do not need to warm the ice to sublimate it.)"
   ]
  },
  {
   "cell_type": "code",
   "execution_count": 5,
   "id": "680195a9-fa02-44d7-944b-ebf0c8d9d686",
   "metadata": {},
   "outputs": [
    {
     "name": "stdout",
     "output_type": "stream",
     "text": [
      "The energy needed to sublimate 1cm^3 block of ice at -10C is 2375.0J.\n"
     ]
    }
   ],
   "source": [
    "# sublimation so just latent heat, no sensible\n",
    "# latent heat of vaporization for the water-vapor transition (evaporation)\n",
    "L_v = 2256 #kJ/kg, J/g\n",
    "# latent heat of vaporization for the ice-vapor transition (sublimation)\n",
    "L_s = L_f + L_v #kJ/kg, J/g\n",
    "\n",
    "# calulate energy to sublimate\n",
    "sublimate_energy = np.round(mass_ice * L_s, 1)\n",
    "print('The energy needed to sublimate 1cm^3 block of ice at -10C is ' + str(sublimate_energy) + 'J.')"
   ]
  },
  {
   "cell_type": "markdown",
   "id": "97ce0574-a88c-4b78-abf2-d2f0f158af5f",
   "metadata": {},
   "source": [
    "#### We know that cold snow is primarily a mixture of ice and air. Consider no phase changes and temperatures between -15 degrees and -5 degrees C. Imagine that no interactions occur between the ice and air in the snow matrix. How does the energy required to heat the mixture those 10 degrees change as the fractions of ice vs. air change in the total mixture?"
   ]
  },
  {
   "cell_type": "markdown",
   "id": "1f5f576c-3a7d-4428-a451-dea2aafcf8d6",
   "metadata": {},
   "source": [
    "The specific heat of air at constant pressure is roughly 1 J/gK while the specific heat of ice is 2.09 J/gK. Therefore, the higher the fraction of ice in snow, the more energy required to heat the sample. This difference in specific heat is why lower density snow facets miore easily than higher density (more sensitive to rapid temperature change."
   ]
  },
  {
   "cell_type": "markdown",
   "id": "1e5f931d-f77a-42f2-89a8-2906eef863e8",
   "metadata": {},
   "source": [
    "#### I argue that sublimation saves the snowpack more than it reduces it. Why would I say this? Do you agree or disagree? Use the specific and latent heats in lab 1-2 to make your argument."
   ]
  },
  {
   "cell_type": "markdown",
   "id": "2f213412-4966-47da-adac-8062a0f4b914",
   "metadata": {},
   "source": [
    "I agree that sublimation saves the snowpack to some extent because it can absorb some of the energy that would otherwise melt snow. The energy needed to sublimate snow (2590J/gK) is nearly 8 times larger than the energy required to melt snow (334J/gK). Therefore, for every 1g of snow that sublimates, another ~7.75g of snow is prevented from melting."
   ]
  },
  {
   "cell_type": "markdown",
   "id": "0b80e958-b5b8-4ecd-829b-6d895bffaff5",
   "metadata": {},
   "source": [
    "## Problem 2"
   ]
  },
  {
   "cell_type": "markdown",
   "id": "c1783a42-563c-483e-99ed-b61e310d51f9",
   "metadata": {},
   "source": [
    "#### Explain, in your own words, but Librrecht means by \"knife-edge instability\". Maximum 5 sentences."
   ]
  },
  {
   "cell_type": "markdown",
   "id": "ca23bc60-eaab-4291-bfe0-05993550c64f",
   "metadata": {},
   "source": [
    "Knife-edge instability refers to a positive feedback mechanism that promotes rapid snow crystal growth. Thinner edges of snow crystals are hypothesized to grow faster than broader edges. Deposition and growth at these sharp edges creates even thinner edges which creates a positive feedback loop. This loop increases the growth rate of snow crystals until interupted by another physical process."
   ]
  }
 ],
 "metadata": {
  "kernelspec": {
   "display_name": "Python 3 (ipykernel)",
   "language": "python",
   "name": "python3"
  },
  "language_info": {
   "codemirror_mode": {
    "name": "ipython",
    "version": 3
   },
   "file_extension": ".py",
   "mimetype": "text/x-python",
   "name": "python",
   "nbconvert_exporter": "python",
   "pygments_lexer": "ipython3",
   "version": "3.11.9"
  }
 },
 "nbformat": 4,
 "nbformat_minor": 5
}
