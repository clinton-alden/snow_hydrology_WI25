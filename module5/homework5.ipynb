{
 "cells": [
  {
   "cell_type": "markdown",
   "metadata": {},
   "source": [
    "# Homework 5\n",
    "\n",
    "### Snow Hydrology\n",
    "\n",
    "### Clinton Alden"
   ]
  },
  {
   "cell_type": "code",
   "execution_count": 3,
   "metadata": {},
   "outputs": [],
   "source": [
    "import numpy as np\n",
    "import matplotlib.pyplot as plt\n",
    "import pandas as pd\n",
    "import xarray as xr\n",
    "import altair as alt\n",
    "\n",
    "sos_file = \"../data/sos_full_dataset_30min.nc\"\n",
    "sos_dataset = xr.open_dataset(sos_file)"
   ]
  },
  {
   "cell_type": "markdown",
   "metadata": {},
   "source": [
    "### Problem 1\n",
    "Create a scatter plot of measured sensible heat flux (`w_tc__3m_c`) versus modeled sensible heat flux from the entire season (modeled on the x axis, measured on the y axis). Briefly describe the performance of the model. Keep your measurements in their native units (˚C * m/s)\n",
    "\n",
    "$H_s = -\\rho_{air} c_p^{air} C_H u_h (\\theta_h - \\theta_s)$"
   ]
  },
  {
   "cell_type": "code",
   "execution_count": 4,
   "metadata": {},
   "outputs": [],
   "source": [
    "# modeled sensible heat flux\n",
    "rho_air = sos_dataset['dryairdensity_3m_c']\n",
    "cp_air = sos_dataset['cp_air'] # \n"
   ]
  },
  {
   "cell_type": "markdown",
   "metadata": {},
   "source": [
    "### Problem 2\n",
    "\n",
    "Create a scatter plot of measured latent heat flux (`w_h2o__3m_c`) versus modeled latent heat flux from the entire season (modeled on the x axis, measured on the y axis). Briefly describe the performance of the model. Keep your measurements in their native units (g/m^2/s)"
   ]
  },
  {
   "cell_type": "markdown",
   "metadata": {},
   "source": []
  },
  {
   "cell_type": "markdown",
   "metadata": {},
   "source": [
    "### Problem 3\n",
    "\n",
    "Modify the z0 value until your fit improves. Write the final z0 value you settled on. How does it differ from the z0 value that I suggested above (0.0002)?"
   ]
  },
  {
   "cell_type": "markdown",
   "metadata": {},
   "source": []
  },
  {
   "cell_type": "markdown",
   "metadata": {},
   "source": [
    "### Problem 4\n",
    "\n",
    "Plot time series of modeled and measured sensible heat flux and latent heat flux for the first 4 days of January. Create a similar plot for the first 4 days of June. Describe why you think the performance is better in one month versus the other."
   ]
  },
  {
   "cell_type": "markdown",
   "metadata": {},
   "source": [
    "### Problem 5\n",
    "\n",
    "Take all of your measured and predicted/modeled values from the season, and create two separate datasets, one that includes data from a) between 10pm and 2am, and b) between 11am and 3pm. Create scatterplots of modeled versus measured sensible heat and latent heat fluxes (like in problems 1 and 2) for the two separate datasets (as in problems 1 and 2).\n"
   ]
  },
  {
   "cell_type": "markdown",
   "metadata": {},
   "source": [
    "### Problem 6\n",
    "\n",
    "Explain why you think the performance differs between the two time periods (night versus day)."
   ]
  },
  {
   "cell_type": "markdown",
   "metadata": {},
   "source": []
  },
  {
   "cell_type": "markdown",
   "metadata": {},
   "source": [
    "### Problem 7\n",
    "\n",
    "Using data from the whole season, create a time series plot of cumulative sublimation with two lines, one using measured values and one using modeled values. Describe how the measured and modeled total sublimation differs. Note that latent heat flux is approximately equal to the sublimation rate. Latent heat flux, in units of g/m^2/s, when summed over the season, should be converted to g/m^2. That means you need to multiply each time step by the number of seconds in that timestep, to convert the latent heat flux (aka sublimation rate) into a total amount of water sublimated. So a 30-minute flux (units g/m^2/s) is multipled by 1800s (number of seconds in 30 minutes), to produce a measure of \"total sublimation in this 30-minute period\", in units g/m^2."
   ]
  },
  {
   "cell_type": "markdown",
   "metadata": {},
   "source": []
  }
 ],
 "metadata": {
  "kernelspec": {
   "display_name": "snow_hydro",
   "language": "python",
   "name": "snow_hydro"
  },
  "language_info": {
   "codemirror_mode": {
    "name": "ipython",
    "version": 3
   },
   "file_extension": ".py",
   "mimetype": "text/x-python",
   "name": "python",
   "nbconvert_exporter": "python",
   "pygments_lexer": "ipython3",
   "version": "3.12.8"
  }
 },
 "nbformat": 4,
 "nbformat_minor": 2
}
